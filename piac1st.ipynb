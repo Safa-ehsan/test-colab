{
  "nbformat": 4,
  "nbformat_minor": 0,
  "metadata": {
    "colab": {
      "provenance": [],
      "authorship_tag": "ABX9TyOfLBTqnY6RDITLGlatkahi",
      "include_colab_link": true
    },
    "kernelspec": {
      "name": "python3",
      "display_name": "Python 3"
    },
    "language_info": {
      "name": "python"
    }
  },
  "cells": [
    {
      "cell_type": "markdown",
      "metadata": {
        "id": "view-in-github",
        "colab_type": "text"
      },
      "source": [
        "<a href=\"https://colab.research.google.com/github/Safa-ehsan/test-colab/blob/main/piac1st.ipynb\" target=\"_parent\"><img src=\"https://colab.research.google.com/assets/colab-badge.svg\" alt=\"Open In Colab\"/></a>"
      ]
    },
    {
      "cell_type": "code",
      "execution_count": null,
      "metadata": {
        "id": "hkSzlbsmDt1H"
      },
      "outputs": [],
      "source": [
        "# prompt: tha\n",
        "\n",
        "# Please provide me with a specific task or code related question.\n",
        "# I need more information to help you.\n"
      ]
    },
    {
      "cell_type": "code",
      "source": [
        "!git branch"
      ],
      "metadata": {
        "colab": {
          "base_uri": "https://localhost:8080/"
        },
        "id": "TigMESSIHBgl",
        "outputId": "94a575b0-cbc4-439a-80db-490d9a01a867"
      },
      "execution_count": 2,
      "outputs": [
        {
          "output_type": "stream",
          "name": "stdout",
          "text": [
            "fatal: not a git repository (or any of the parent directories): .git\n"
          ]
        }
      ]
    },
    {
      "cell_type": "code",
      "source": [
        "# prompt: hi world\n",
        "\n",
        "print(\"Hello world!\")\n"
      ],
      "metadata": {
        "id": "4IOVkgQ5KwQ2"
      },
      "execution_count": null,
      "outputs": []
    }
  ]
}